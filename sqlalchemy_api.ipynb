{
 "cells": [
  {
   "cell_type": "code",
   "execution_count": 29,
   "id": "58e1b872",
   "metadata": {},
   "outputs": [],
   "source": [
    "import sqlalchemy\n",
    "from sqlalchemy.ext.automap import automap_base\n",
    "from sqlalchemy.orm import Session\n",
    "from sqlalchemy import create_engine, func, inspect, Column, Integer, String, Float, DateTime\n",
    "\n",
    "import pandas as pd\n",
    "\n",
    "from flask import Flask, jsonify"
   ]
  },
  {
   "cell_type": "code",
   "execution_count": 30,
   "id": "9220caf9",
   "metadata": {},
   "outputs": [],
   "source": [
    "engine = create_engine('sqlite:///Data/isp.sqlite')"
   ]
  },
  {
   "cell_type": "code",
   "execution_count": 31,
   "id": "c961c165",
   "metadata": {},
   "outputs": [],
   "source": [
    "column_names = ['address_full',\n",
    " 'major_city',\n",
    " 'state',\n",
    " 'lat',\n",
    " 'lon',\n",
    " 'block_group',\n",
    " 'collection_datetime',\n",
    " 'provider',\n",
    " 'price',\n",
    " 'speed_down',\n",
    " 'speed_up',\n",
    " 'speed_unit',\n",
    " 'technology',\n",
    " 'package',\n",
    " 'fastest_speed_down',\n",
    " 'fastest_speed_price',\n",
    " 'speed_down_bins',\n",
    " 'redlining_grade',\n",
    " 'race_perc_non_white',\n",
    " 'race_quantile',\n",
    " 'median_household_income',\n",
    " 'income_dollars_below_median',\n",
    " 'income_level',\n",
    " 'ppl_per_sq_mile',\n",
    " 'n_providers',\n",
    " 'internet_perc_broadband']"
   ]
  },
  {
   "cell_type": "code",
   "execution_count": 32,
   "id": "17c6d4a2",
   "metadata": {},
   "outputs": [],
   "source": [
    "Base = automap_base()\n",
    "\n",
    "Base.prepare(autoload_with=engine)\n",
    "\n",
    "Base.classes.keys()\n",
    "\n",
    "minneapolis_centurylink = Base.classes.Minneapolis_Centurylink\n",
    "minneapolis_centurylink_grouped = Base.classes.Minneapolis_Centurylink_Grouped"
   ]
  },
  {
   "cell_type": "code",
   "execution_count": 33,
   "id": "2600375a",
   "metadata": {},
   "outputs": [
    {
     "data": {
      "text/plain": [
       "['Minneapolis_Centurylink', 'Minneapolis_Centurylink_Grouped']"
      ]
     },
     "execution_count": 33,
     "metadata": {},
     "output_type": "execute_result"
    }
   ],
   "source": [
    "Base.classes.keys()"
   ]
  },
  {
   "cell_type": "code",
   "execution_count": 34,
   "id": "fa5e1d80",
   "metadata": {},
   "outputs": [],
   "source": [
    "session = Session(engine)"
   ]
  },
  {
   "cell_type": "code",
   "execution_count": 32,
   "id": "f362f531",
   "metadata": {
    "scrolled": true
   },
   "outputs": [
    {
     "name": "stdout",
     "output_type": "stream",
     "text": [
      "block_group INTEGER\n",
      "price REAL\n",
      "speed_down REAL\n",
      "speed_up REAL\n",
      "speed_unit TEXT\n",
      "technology TEXT\n",
      "package TEXT\n",
      "fastest_speed_down REAL\n",
      "fastest_speed_price REAL\n",
      "speed_down_bins TEXT\n",
      "redlining_grade TEXT\n",
      "median_household_income TEXT\n",
      "income_level TEXT\n",
      "n_providers REAL\n",
      "internet_perc_broadband REAL\n",
      "lats TEXT\n",
      "lons TEXT\n",
      "latstring TEXT\n",
      "lonstring TEXT\n"
     ]
    }
   ],
   "source": [
    "inspector = inspect(engine)\n",
    "\n",
    "columns = inspector.get_columns('Minneapolis_Centurylink_Grouped')\n",
    "for column in columns:\n",
    "    print(column[\"name\"], column[\"type\"])"
   ]
  },
  {
   "cell_type": "code",
   "execution_count": 42,
   "id": "81bfd51a",
   "metadata": {
    "scrolled": true
   },
   "outputs": [],
   "source": [
    "data = session.query(minneapolis_centurylink.address_full, \\\n",
    "                        minneapolis_centurylink.major_city, \\\n",
    "                        minneapolis_centurylink.state, \\\n",
    "                        minneapolis_centurylink.lat, \\\n",
    "                        minneapolis_centurylink.lon, \\\n",
    "                        minneapolis_centurylink.block_group,\\\n",
    "                        minneapolis_centurylink.collection_datetime, \\\n",
    "                        minneapolis_centurylink.provider, \\\n",
    "                        minneapolis_centurylink.price, \\\n",
    "                        minneapolis_centurylink.speed_down, \\\n",
    "                        minneapolis_centurylink.speed_up, \\\n",
    "                        minneapolis_centurylink.speed_unit, \\\n",
    "                        minneapolis_centurylink.technology, \\\n",
    "                        minneapolis_centurylink.package, \\\n",
    "                        minneapolis_centurylink.fastest_speed_down,\t\\\n",
    "                        minneapolis_centurylink.fastest_speed_price, \\\n",
    "                        minneapolis_centurylink.speed_down_bins, \\\n",
    "                        minneapolis_centurylink.redlining_grade, \\\n",
    "                        minneapolis_centurylink.race_perc_non_white, \\\n",
    "                        minneapolis_centurylink.race_quantile, \\\n",
    "                        minneapolis_centurylink.median_household_income, \\\n",
    "                        minneapolis_centurylink.income_dollars_below_median, \\\n",
    "                        minneapolis_centurylink.income_level, \\\n",
    "                        minneapolis_centurylink.ppl_per_sq_mile, \\\n",
    "                        minneapolis_centurylink.n_providers, \\\n",
    "                        minneapolis_centurylink.internet_perc_broadband).all()\n",
    "\n",
    "dataArray = []\n",
    "\n",
    "for address_full, major_city, state, lat, lon, block_group, collection_datetime,\\\n",
    "    provider, price, speed_down, speed_up, speed_unit, technology, package, \\\n",
    "    fastest_speed_down, fastest_speed_price, speed_down_bins, redlining_grade, \\\n",
    "    race_perc_non_white, race_quantile, median_household_income, income_dollars_below_median, \\\n",
    "    income_level, ppl_per_sq_mile, n_providers, internet_perc_broadband in data:\n",
    "\n",
    "    rowData = {}\n",
    "    rowData[\"address_full\"] =  address_full\n",
    "    rowData[\"major_city\"] =  major_city\n",
    "    rowData[\"state\"] =  state\n",
    "    rowData[\"lat\"] =  lat\n",
    "    rowData[\"lon\"] =  lon\n",
    "    rowData[\"block_group\"] =  block_group\n",
    "    rowData[\"collection_datetime\"] =  collection_datetime\n",
    "    rowData[\"provider\"] =  provider\n",
    "    rowData[\"price\"] =  price\n",
    "    rowData[\"speed_down\"] =  speed_down\n",
    "    rowData[\"speed_up\"] =  speed_up\n",
    "    rowData[\"speed_unit\"] =  speed_unit\n",
    "    rowData[\"technology\"] =  technology\n",
    "    rowData[\"package\"] =  package\n",
    "    rowData[\"fastest_speed_down\"] =  fastest_speed_down\n",
    "    rowData[\"fastest_speed_price\"] =  fastest_speed_price\n",
    "    rowData[\"speed_down_bins\"] =  speed_down_bins\n",
    "    rowData[\"redlining_grade\"] =  redlining_grade\n",
    "    rowData[\"race_perc_non_white\"] =  race_perc_non_white\n",
    "    rowData[\"race_quantile\"] =  race_quantile\n",
    "    rowData[\"median_household_income\"] =  median_household_income\n",
    "    rowData[\"income_dollars_below_median\"] =  income_dollars_below_median\n",
    "    rowData[\"income_level\"] =  income_level\n",
    "    rowData[\"ppl_per_sq_mile\"] =  ppl_per_sq_mile\n",
    "    rowData[\"n_providers\"] =  n_providers\n",
    "    rowData[\"internet_perc_broadband\"] =  internet_perc_broadband\n",
    "\n",
    "    dataArray.append(rowData)"
   ]
  },
  {
   "cell_type": "code",
   "execution_count": 43,
   "id": "1b64ab59",
   "metadata": {
    "scrolled": true
   },
   "outputs": [
    {
     "data": {
      "text/plain": [
       "{'address_full': '3739 SNELLING AVE,MINNEAPOLIS,MN 55406,USA',\n",
       " 'major_city': 'minneapolis',\n",
       " 'state': 'MN',\n",
       " 'lat': 44.9348799,\n",
       " 'lon': -93.2257266,\n",
       " 'block_group': 270531088001,\n",
       " 'collection_datetime': datetime.datetime(2022, 4, 16, 22, 8, 27),\n",
       " 'provider': 'CenturyLink',\n",
       " 'price': 50.0,\n",
       " 'speed_down': 200.0,\n",
       " 'speed_up': 200.0,\n",
       " 'speed_unit': 'Mbps',\n",
       " 'technology': 'Fiber',\n",
       " 'package': 'HSI Upto 200 Mbps/200 Mbps Prepaid',\n",
       " 'fastest_speed_down': 940.0,\n",
       " 'fastest_speed_price': 65.0,\n",
       " 'speed_down_bins': 'Blazing (≥200)',\n",
       " 'redlining_grade': 'D',\n",
       " 'race_perc_non_white': 0.6405750798722045,\n",
       " 'race_quantile': 'least white',\n",
       " 'median_household_income': 60417.0,\n",
       " 'income_dollars_below_median': 5651.0,\n",
       " 'income_level': 'Middle-Lower',\n",
       " 'ppl_per_sq_mile': 3329.255969792054,\n",
       " 'n_providers': 3,\n",
       " 'internet_perc_broadband': 0.6080246913580247}"
      ]
     },
     "execution_count": 43,
     "metadata": {},
     "output_type": "execute_result"
    }
   ],
   "source": [
    "dataArray[0]"
   ]
  },
  {
   "cell_type": "code",
   "execution_count": 28,
   "id": "bfce2f48",
   "metadata": {},
   "outputs": [],
   "source": [
    "data = session.query(minneapolis_centurylink_grouped.latstring, \\\n",
    "                minneapolis_centurylink_grouped.lonstring, \\\n",
    "                minneapolis_centurylink_grouped.block_group,\\\n",
    "                minneapolis_centurylink_grouped.price, \\\n",
    "                minneapolis_centurylink_grouped.speed_down, \\\n",
    "                minneapolis_centurylink_grouped.speed_up, \\\n",
    "                minneapolis_centurylink_grouped.speed_unit, \\\n",
    "                minneapolis_centurylink_grouped.technology, \\\n",
    "                minneapolis_centurylink_grouped.package, \\\n",
    "                minneapolis_centurylink_grouped.fastest_speed_down,\t\\\n",
    "                minneapolis_centurylink_grouped.fastest_speed_price, \\\n",
    "                minneapolis_centurylink_grouped.speed_down_bins, \\\n",
    "                minneapolis_centurylink_grouped.redlining_grade, \\\n",
    "                minneapolis_centurylink_grouped.median_household_income, \\\n",
    "                minneapolis_centurylink_grouped.income_level, \\\n",
    "                minneapolis_centurylink_grouped.n_providers, \\\n",
    "                minneapolis_centurylink_grouped.internet_perc_broadband). \\\n",
    "                all()\n",
    "\n",
    "dataArray = []\n",
    "\n",
    "for latstring, lonstring, block_group, price, speed_down, speed_up, speed_unit, technology, \\\n",
    "    package, fastest_speed_down, fastest_speed_price, speed_down_bins, redlining_grade, \\\n",
    "    median_household_income, income_level, n_providers, internet_perc_broadband in data:\n",
    "\n",
    "    rowData = {}\n",
    "    rowData[\"latstring\"] =  latstring.split(',')\n",
    "    rowData[\"lonstring\"] =  lonstring.split(',')\n",
    "    rowData[\"block_group\"] =  block_group\n",
    "    rowData[\"price\"] =  price\n",
    "    rowData[\"speed_down\"] =  speed_down\n",
    "    rowData[\"speed_up\"] =  speed_up\n",
    "    rowData[\"speed_unit\"] =  speed_unit\n",
    "    rowData[\"technology\"] =  technology\n",
    "    rowData[\"package\"] =  package\n",
    "    rowData[\"fastest_speed_down\"] =  fastest_speed_down\n",
    "    rowData[\"fastest_speed_price\"] =  fastest_speed_price\n",
    "    rowData[\"speed_down_bins\"] =  speed_down_bins\n",
    "    rowData[\"redlining_grade\"] =  redlining_grade\n",
    "    rowData[\"median_household_income\"] =  median_household_income\n",
    "    rowData[\"income_level\"] =  income_level\n",
    "    rowData[\"n_providers\"] =  n_providers\n",
    "    rowData[\"internet_perc_broadband\"] =  internet_perc_broadband\n",
    "\n",
    "    dataArray.append(rowData)"
   ]
  },
  {
   "cell_type": "code",
   "execution_count": null,
   "id": "e4f38815",
   "metadata": {},
   "outputs": [],
   "source": []
  }
 ],
 "metadata": {
  "kernelspec": {
   "display_name": "PythonData",
   "language": "python",
   "name": "pythondata"
  },
  "language_info": {
   "codemirror_mode": {
    "name": "ipython",
    "version": 3
   },
   "file_extension": ".py",
   "mimetype": "text/x-python",
   "name": "python",
   "nbconvert_exporter": "python",
   "pygments_lexer": "ipython3",
   "version": "3.9.13"
  }
 },
 "nbformat": 4,
 "nbformat_minor": 5
}
