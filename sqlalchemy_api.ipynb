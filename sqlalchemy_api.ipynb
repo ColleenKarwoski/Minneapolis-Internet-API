{
 "cells": [
  {
   "cell_type": "code",
   "execution_count": 31,
   "id": "18b640ea",
   "metadata": {},
   "outputs": [],
   "source": [
    "import sqlalchemy\n",
    "from sqlalchemy.ext.automap import automap_base\n",
    "from sqlalchemy.orm import Session\n",
    "from sqlalchemy import create_engine, func, inspect, Column, Integer, String, Float, DateTime\n",
    "\n",
    "import pandas as pd\n",
    "\n",
    "from flask import Flask, jsonify"
   ]
  },
  {
   "cell_type": "code",
   "execution_count": 32,
   "id": "cb3068ab",
   "metadata": {},
   "outputs": [],
   "source": [
    "engine = create_engine('sqlite:///Data/isp.sqlite')"
   ]
  },
  {
   "cell_type": "code",
   "execution_count": 4,
   "id": "582f5914",
   "metadata": {},
   "outputs": [],
   "source": [
    "column_names = ['address_full',\n",
    " 'major_city',\n",
    " 'state',\n",
    " 'lat',\n",
    " 'lon',\n",
    " 'block_group',\n",
    " 'collection_datetime',\n",
    " 'provider',\n",
    " 'price',\n",
    " 'speed_down',\n",
    " 'speed_up',\n",
    " 'speed_unit',\n",
    " 'technology',\n",
    " 'package',\n",
    " 'fastest_speed_down',\n",
    " 'fastest_speed_price',\n",
    " 'speed_down_bins',\n",
    " 'redlining_grade',\n",
    " 'race_perc_non_white',\n",
    " 'race_quantile',\n",
    " 'median_household_income',\n",
    " 'income_dollars_below_median',\n",
    " 'income_level',\n",
    " 'ppl_per_sq_mile',\n",
    " 'n_providers',\n",
    " 'internet_perc_broadband']"
   ]
  },
  {
   "cell_type": "code",
   "execution_count": 5,
   "id": "98af1e85",
   "metadata": {},
   "outputs": [],
   "source": [
    "Base = automap_base()\n",
    "\n",
    "Base.prepare(autoload_with=engine)\n",
    "\n",
    "Base.classes.keys()\n",
    "\n",
    "minneapolis_centurylink = Base.classes.Minneapolis_Centurylink"
   ]
  },
  {
   "cell_type": "code",
   "execution_count": 8,
   "id": "3abace3a",
   "metadata": {},
   "outputs": [],
   "source": [
    "session = Session(engine)"
   ]
  },
  {
   "cell_type": "code",
   "execution_count": 25,
   "id": "1cba0742",
   "metadata": {
    "scrolled": true
   },
   "outputs": [
    {
     "name": "stdout",
     "output_type": "stream",
     "text": [
      "address_full VARCHAR(100)\n",
      "major_city VARCHAR(50)\n",
      "state VARCHAR(4)\n",
      "lat FLOAT\n",
      "lon FLOAT\n",
      "block_group BIGINT\n",
      "collection_datetime DATETIME\n",
      "provider VARCHAR(20)\n",
      "price FLOAT\n",
      "speed_down FLOAT\n",
      "speed_up FLOAT\n",
      "speed_unit VARCHAR(10)\n",
      "technology VARCHAR(20)\n",
      "package VARCHAR(100)\n",
      "fastest_speed_down FLOAT\n",
      "fastest_speed_price FLOAT\n",
      "speed_down_bins VARCHAR(50)\n",
      "redlining_grade VARCHAR(2)\n",
      "race_perc_non_white FLOAT\n",
      "race_quantile VARCHAR(50)\n",
      "median_household_income FLOAT\n",
      "income_dollars_below_median FLOAT\n",
      "income_level VARCHAR(50)\n",
      "ppl_per_sq_mile FLOAT\n",
      "n_providers INTEGER\n",
      "internet_perc_broadband FLOAT\n"
     ]
    }
   ],
   "source": [
    "inspector = inspect(engine)\n",
    "\n",
    "columns = inspector.get_columns('Minneapolis_Centurylink')\n",
    "for column in columns:\n",
    "    print(column[\"name\"], column[\"type\"])"
   ]
  },
  {
   "cell_type": "code",
   "execution_count": 43,
   "id": "0bacfd33",
   "metadata": {
    "scrolled": true
   },
   "outputs": [],
   "source": [
    "data = session.query(minneapolis_centurylink.address_full, \\\n",
    "                        minneapolis_centurylink.major_city, \\\n",
    "                        minneapolis_centurylink.state, \\\n",
    "                        minneapolis_centurylink.lat, \\\n",
    "                        minneapolis_centurylink.lon, \\\n",
    "                        minneapolis_centurylink.block_group,\\\n",
    "                        minneapolis_centurylink.collection_datetime, \\\n",
    "                        minneapolis_centurylink.provider, \\\n",
    "                        minneapolis_centurylink.price, \\\n",
    "                        minneapolis_centurylink.speed_down, \\\n",
    "                        minneapolis_centurylink.speed_up, \\\n",
    "                        minneapolis_centurylink.speed_unit, \\\n",
    "                        minneapolis_centurylink.technology, \\\n",
    "                        minneapolis_centurylink.package, \\\n",
    "                        minneapolis_centurylink.fastest_speed_down,\t\\\n",
    "                        minneapolis_centurylink.fastest_speed_price, \\\n",
    "                        minneapolis_centurylink.speed_down_bins, \\\n",
    "                        minneapolis_centurylink.redlining_grade, \\\n",
    "                        minneapolis_centurylink.race_perc_non_white, \\\n",
    "                        minneapolis_centurylink.race_quantile, \\\n",
    "                        minneapolis_centurylink.median_household_income, \\\n",
    "                        minneapolis_centurylink.income_dollars_below_median, \\\n",
    "                        minneapolis_centurylink.income_level, \\\n",
    "                        minneapolis_centurylink.ppl_per_sq_mile, \\\n",
    "                        minneapolis_centurylink.n_providers, \\\n",
    "                        minneapolis_centurylink.internet_perc_broadband).all()\n",
    "\n",
    "dataArray = []\n",
    "\n",
    "for address_full, major_city, state, lat, lon, block_group, collection_datetime,\\\n",
    "    provider, price, speed_down, speed_up, speed_unit, technology, package, \\\n",
    "    fastest_speed_down, fastest_speed_price, speed_down_bins, redlining_grade, \\\n",
    "    race_perc_non_white, race_quantile, median_household_income, income_dollars_below_median, \\\n",
    "    income_level, ppl_per_sq_mile, n_providers, internet_perc_broadband in data:\n",
    "\n",
    "    rowData = {}\n",
    "    rowData[\"address_full\"] =  address_full\n",
    "    rowData[\"major_city\"] =  major_city\n",
    "    rowData[\"state\"] =  state\n",
    "    rowData[\"lat\"] =  lat\n",
    "    rowData[\"lon\"] =  lon\n",
    "    rowData[\"block_group\"] =  block_group\n",
    "    rowData[\"collection_datetime\"] =  collection_datetime\n",
    "    rowData[\"provider\"] =  provider\n",
    "    rowData[\"price\"] =  price\n",
    "    rowData[\"speed_down\"] =  speed_down\n",
    "    rowData[\"speed_up\"] =  speed_up\n",
    "    rowData[\"speed_unit\"] =  speed_unit\n",
    "    rowData[\"technology\"] =  technology\n",
    "    rowData[\"package\"] =  package\n",
    "    rowData[\"fastest_speed_down\"] =  fastest_speed_down\n",
    "    rowData[\"fastest_speed_price\"] =  fastest_speed_price\n",
    "    rowData[\"speed_down_bins\"] =  speed_down_bins\n",
    "    rowData[\"redlining_grade\"] =  redlining_grade\n",
    "    rowData[\"race_perc_non_white\"] =  race_perc_non_white\n",
    "    rowData[\"race_quantile\"] =  race_quantile\n",
    "    rowData[\"median_household_income\"] =  median_household_income\n",
    "    rowData[\"income_dollars_below_median\"] =  income_dollars_below_median\n",
    "    rowData[\"income_level\"] =  income_level\n",
    "    rowData[\"ppl_per_sq_mile\"] =  ppl_per_sq_mile\n",
    "    rowData[\"n_providers\"] =  n_providers\n",
    "    rowData[\"internet_perc_broadband\"] =  internet_perc_broadband\n",
    "\n",
    "    dataArray.append(rowData)"
   ]
  },
  {
   "cell_type": "code",
   "execution_count": 45,
   "id": "2fbd57b9",
   "metadata": {},
   "outputs": [
    {
     "data": {
      "text/plain": [
       "{'address_full': '3739 SNELLING AVE,MINNEAPOLIS,MN 55406,USA',\n",
       " 'major_city': 'minneapolis',\n",
       " 'state': 'MN',\n",
       " 'lat': 44.9348799,\n",
       " 'lon': -93.2257266,\n",
       " 'block_group': 270531088001,\n",
       " 'collection_datetime': datetime.datetime(2022, 4, 16, 22, 8, 27),\n",
       " 'provider': 'CenturyLink',\n",
       " 'price': 50.0,\n",
       " 'speed_down': 200.0,\n",
       " 'speed_up': 200.0,\n",
       " 'speed_unit': 'Mbps',\n",
       " 'technology': 'Fiber',\n",
       " 'package': 'HSI Upto 200 Mbps/200 Mbps Prepaid',\n",
       " 'fastest_speed_down': 940.0,\n",
       " 'fastest_speed_price': 65.0,\n",
       " 'speed_down_bins': 'Blazing (≥200)',\n",
       " 'redlining_grade': 'D',\n",
       " 'race_perc_non_white': 0.6405750798722045,\n",
       " 'race_quantile': 'least white',\n",
       " 'median_household_income': 60417.0,\n",
       " 'income_dollars_below_median': 5651.0,\n",
       " 'income_level': 'Middle-Lower',\n",
       " 'ppl_per_sq_mile': 3329.255969792054,\n",
       " 'n_providers': 3,\n",
       " 'internet_perc_broadband': 0.6080246913580247}"
      ]
     },
     "execution_count": 45,
     "metadata": {},
     "output_type": "execute_result"
    }
   ],
   "source": [
    "dataArray[0]"
   ]
  },
  {
   "cell_type": "code",
   "execution_count": null,
   "id": "41b8eb12",
   "metadata": {},
   "outputs": [],
   "source": []
  }
 ],
 "metadata": {
  "kernelspec": {
   "display_name": "PythonData",
   "language": "python",
   "name": "pythondata"
  },
  "language_info": {
   "codemirror_mode": {
    "name": "ipython",
    "version": 3
   },
   "file_extension": ".py",
   "mimetype": "text/x-python",
   "name": "python",
   "nbconvert_exporter": "python",
   "pygments_lexer": "ipython3",
   "version": "3.9.13"
  }
 },
 "nbformat": 4,
 "nbformat_minor": 5
}
