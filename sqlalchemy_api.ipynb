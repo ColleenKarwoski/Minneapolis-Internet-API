{
 "cells": [
  {
   "cell_type": "code",
   "execution_count": 31,
   "id": "b51e64d3",
   "metadata": {},
   "outputs": [],
   "source": [
    "import sqlalchemy\n",
    "from sqlalchemy.ext.automap import automap_base\n",
    "from sqlalchemy.orm import Session\n",
    "from sqlalchemy import create_engine, func, inspect, Column, Integer, String, Float, DateTime\n",
    "\n",
    "import pandas as pd\n",
    "\n",
    "from flask import Flask, jsonify"
   ]
  },
  {
   "cell_type": "code",
   "execution_count": 32,
   "id": "c01df77b",
   "metadata": {},
   "outputs": [],
   "source": [
    "engine = create_engine('sqlite:///Data/isp.sqlite')"
   ]
  },
  {
   "cell_type": "code",
   "execution_count": 34,
   "id": "a707fbf7",
   "metadata": {},
   "outputs": [
    {
     "name": "stderr",
     "output_type": "stream",
     "text": [
      "C:\\Users\\Dan\\AppData\\Local\\Temp\\ipykernel_27136\\912657764.py:1: SAWarning: This declarative base already contains a class with the same class name and module name as __main__.ISP, and will be replaced in the string-lookup table.\n",
      "  class ISP(Base):\n"
     ]
    },
    {
     "ename": "InvalidRequestError",
     "evalue": "Table 'Minneapolis_Centurylink' is already defined for this MetaData instance.  Specify 'extend_existing=True' to redefine options and columns on an existing Table object.",
     "output_type": "error",
     "traceback": [
      "\u001b[1;31m---------------------------------------------------------------------------\u001b[0m",
      "\u001b[1;31mInvalidRequestError\u001b[0m                       Traceback (most recent call last)",
      "\u001b[1;32m~\\AppData\\Local\\Temp\\ipykernel_27136\\912657764.py\u001b[0m in \u001b[0;36m<module>\u001b[1;34m\u001b[0m\n\u001b[1;32m----> 1\u001b[1;33m \u001b[1;32mclass\u001b[0m \u001b[0mISP\u001b[0m\u001b[1;33m(\u001b[0m\u001b[0mBase\u001b[0m\u001b[1;33m)\u001b[0m\u001b[1;33m:\u001b[0m\u001b[1;33m\u001b[0m\u001b[1;33m\u001b[0m\u001b[0m\n\u001b[0m\u001b[0;32m      2\u001b[0m     \u001b[0m__tablename__\u001b[0m \u001b[1;33m=\u001b[0m \u001b[1;34m'Minneapolis_Centurylink'\u001b[0m\u001b[1;33m\u001b[0m\u001b[1;33m\u001b[0m\u001b[0m\n\u001b[0;32m      3\u001b[0m     \u001b[0maddress_full\u001b[0m \u001b[1;33m=\u001b[0m \u001b[0mColumn\u001b[0m\u001b[1;33m(\u001b[0m\u001b[0mString\u001b[0m\u001b[1;33m,\u001b[0m \u001b[0mprimary_key\u001b[0m\u001b[1;33m=\u001b[0m\u001b[1;32mTrue\u001b[0m\u001b[1;33m)\u001b[0m\u001b[1;33m\u001b[0m\u001b[1;33m\u001b[0m\u001b[0m\n\u001b[0;32m      4\u001b[0m     \u001b[0mmajor_city\u001b[0m \u001b[1;33m=\u001b[0m \u001b[0mColumn\u001b[0m\u001b[1;33m(\u001b[0m\u001b[0mString\u001b[0m\u001b[1;33m)\u001b[0m\u001b[1;33m\u001b[0m\u001b[1;33m\u001b[0m\u001b[0m\n\u001b[0;32m      5\u001b[0m     \u001b[0mstate\u001b[0m \u001b[1;33m=\u001b[0m \u001b[0mColumn\u001b[0m\u001b[1;33m(\u001b[0m\u001b[0mString\u001b[0m\u001b[1;33m)\u001b[0m\u001b[1;33m\u001b[0m\u001b[1;33m\u001b[0m\u001b[0m\n",
      "\u001b[1;32m~\\anaconda3\\lib\\site-packages\\sqlalchemy\\orm\\decl_api.py\u001b[0m in \u001b[0;36m__init__\u001b[1;34m(cls, classname, bases, dict_, **kw)\u001b[0m\n\u001b[0;32m     74\u001b[0m \u001b[1;33m\u001b[0m\u001b[0m\n\u001b[0;32m     75\u001b[0m         \u001b[1;32mif\u001b[0m \u001b[1;32mnot\u001b[0m \u001b[0mcls\u001b[0m\u001b[1;33m.\u001b[0m\u001b[0m__dict__\u001b[0m\u001b[1;33m.\u001b[0m\u001b[0mget\u001b[0m\u001b[1;33m(\u001b[0m\u001b[1;34m\"__abstract__\"\u001b[0m\u001b[1;33m,\u001b[0m \u001b[1;32mFalse\u001b[0m\u001b[1;33m)\u001b[0m\u001b[1;33m:\u001b[0m\u001b[1;33m\u001b[0m\u001b[1;33m\u001b[0m\u001b[0m\n\u001b[1;32m---> 76\u001b[1;33m             \u001b[0m_as_declarative\u001b[0m\u001b[1;33m(\u001b[0m\u001b[0mreg\u001b[0m\u001b[1;33m,\u001b[0m \u001b[0mcls\u001b[0m\u001b[1;33m,\u001b[0m \u001b[0mdict_\u001b[0m\u001b[1;33m)\u001b[0m\u001b[1;33m\u001b[0m\u001b[1;33m\u001b[0m\u001b[0m\n\u001b[0m\u001b[0;32m     77\u001b[0m         \u001b[0mtype\u001b[0m\u001b[1;33m.\u001b[0m\u001b[0m__init__\u001b[0m\u001b[1;33m(\u001b[0m\u001b[0mcls\u001b[0m\u001b[1;33m,\u001b[0m \u001b[0mclassname\u001b[0m\u001b[1;33m,\u001b[0m \u001b[0mbases\u001b[0m\u001b[1;33m,\u001b[0m \u001b[0mdict_\u001b[0m\u001b[1;33m)\u001b[0m\u001b[1;33m\u001b[0m\u001b[1;33m\u001b[0m\u001b[0m\n\u001b[0;32m     78\u001b[0m \u001b[1;33m\u001b[0m\u001b[0m\n",
      "\u001b[1;32m~\\anaconda3\\lib\\site-packages\\sqlalchemy\\orm\\decl_base.py\u001b[0m in \u001b[0;36m_as_declarative\u001b[1;34m(registry, cls, dict_)\u001b[0m\n\u001b[0;32m    124\u001b[0m     \u001b[1;31m# args passed separately.\u001b[0m\u001b[1;33m\u001b[0m\u001b[1;33m\u001b[0m\u001b[0m\n\u001b[0;32m    125\u001b[0m \u001b[1;33m\u001b[0m\u001b[0m\n\u001b[1;32m--> 126\u001b[1;33m     \u001b[1;32mreturn\u001b[0m \u001b[0m_MapperConfig\u001b[0m\u001b[1;33m.\u001b[0m\u001b[0msetup_mapping\u001b[0m\u001b[1;33m(\u001b[0m\u001b[0mregistry\u001b[0m\u001b[1;33m,\u001b[0m \u001b[0mcls\u001b[0m\u001b[1;33m,\u001b[0m \u001b[0mdict_\u001b[0m\u001b[1;33m,\u001b[0m \u001b[1;32mNone\u001b[0m\u001b[1;33m,\u001b[0m \u001b[1;33m{\u001b[0m\u001b[1;33m}\u001b[0m\u001b[1;33m)\u001b[0m\u001b[1;33m\u001b[0m\u001b[1;33m\u001b[0m\u001b[0m\n\u001b[0m\u001b[0;32m    127\u001b[0m \u001b[1;33m\u001b[0m\u001b[0m\n\u001b[0;32m    128\u001b[0m \u001b[1;33m\u001b[0m\u001b[0m\n",
      "\u001b[1;32m~\\anaconda3\\lib\\site-packages\\sqlalchemy\\orm\\decl_base.py\u001b[0m in \u001b[0;36msetup_mapping\u001b[1;34m(cls, registry, cls_, dict_, table, mapper_kw)\u001b[0m\n\u001b[0;32m    181\u001b[0m             \u001b[0mcfg_cls\u001b[0m \u001b[1;33m=\u001b[0m \u001b[0m_ClassScanMapperConfig\u001b[0m\u001b[1;33m\u001b[0m\u001b[1;33m\u001b[0m\u001b[0m\n\u001b[0;32m    182\u001b[0m \u001b[1;33m\u001b[0m\u001b[0m\n\u001b[1;32m--> 183\u001b[1;33m         \u001b[1;32mreturn\u001b[0m \u001b[0mcfg_cls\u001b[0m\u001b[1;33m(\u001b[0m\u001b[0mregistry\u001b[0m\u001b[1;33m,\u001b[0m \u001b[0mcls_\u001b[0m\u001b[1;33m,\u001b[0m \u001b[0mdict_\u001b[0m\u001b[1;33m,\u001b[0m \u001b[0mtable\u001b[0m\u001b[1;33m,\u001b[0m \u001b[0mmapper_kw\u001b[0m\u001b[1;33m)\u001b[0m\u001b[1;33m\u001b[0m\u001b[1;33m\u001b[0m\u001b[0m\n\u001b[0m\u001b[0;32m    184\u001b[0m \u001b[1;33m\u001b[0m\u001b[0m\n\u001b[0;32m    185\u001b[0m     \u001b[1;32mdef\u001b[0m \u001b[0m__init__\u001b[0m\u001b[1;33m(\u001b[0m\u001b[0mself\u001b[0m\u001b[1;33m,\u001b[0m \u001b[0mregistry\u001b[0m\u001b[1;33m,\u001b[0m \u001b[0mcls_\u001b[0m\u001b[1;33m,\u001b[0m \u001b[0mmapper_kw\u001b[0m\u001b[1;33m)\u001b[0m\u001b[1;33m:\u001b[0m\u001b[1;33m\u001b[0m\u001b[1;33m\u001b[0m\u001b[0m\n",
      "\u001b[1;32m~\\anaconda3\\lib\\site-packages\\sqlalchemy\\orm\\decl_base.py\u001b[0m in \u001b[0;36m__init__\u001b[1;34m(self, registry, cls_, dict_, table, mapper_kw)\u001b[0m\n\u001b[0;32m    329\u001b[0m             \u001b[0mself\u001b[0m\u001b[1;33m.\u001b[0m\u001b[0m_extract_declared_columns\u001b[0m\u001b[1;33m(\u001b[0m\u001b[1;33m)\u001b[0m\u001b[1;33m\u001b[0m\u001b[1;33m\u001b[0m\u001b[0m\n\u001b[0;32m    330\u001b[0m \u001b[1;33m\u001b[0m\u001b[0m\n\u001b[1;32m--> 331\u001b[1;33m             \u001b[0mself\u001b[0m\u001b[1;33m.\u001b[0m\u001b[0m_setup_table\u001b[0m\u001b[1;33m(\u001b[0m\u001b[0mtable\u001b[0m\u001b[1;33m)\u001b[0m\u001b[1;33m\u001b[0m\u001b[1;33m\u001b[0m\u001b[0m\n\u001b[0m\u001b[0;32m    332\u001b[0m \u001b[1;33m\u001b[0m\u001b[0m\n\u001b[0;32m    333\u001b[0m             \u001b[0mself\u001b[0m\u001b[1;33m.\u001b[0m\u001b[0m_setup_inheritance\u001b[0m\u001b[1;33m(\u001b[0m\u001b[0mmapper_kw\u001b[0m\u001b[1;33m)\u001b[0m\u001b[1;33m\u001b[0m\u001b[1;33m\u001b[0m\u001b[0m\n",
      "\u001b[1;32m~\\anaconda3\\lib\\site-packages\\sqlalchemy\\orm\\decl_base.py\u001b[0m in \u001b[0;36m_setup_table\u001b[1;34m(self, table)\u001b[0m\n\u001b[0;32m    818\u001b[0m                 table = self.set_cls_attribute(\n\u001b[0;32m    819\u001b[0m                     \u001b[1;34m\"__table__\"\u001b[0m\u001b[1;33m,\u001b[0m\u001b[1;33m\u001b[0m\u001b[1;33m\u001b[0m\u001b[0m\n\u001b[1;32m--> 820\u001b[1;33m                     table_cls(\n\u001b[0m\u001b[0;32m    821\u001b[0m                         \u001b[0mtablename\u001b[0m\u001b[1;33m,\u001b[0m\u001b[1;33m\u001b[0m\u001b[1;33m\u001b[0m\u001b[0m\n\u001b[0;32m    822\u001b[0m                         \u001b[0mself\u001b[0m\u001b[1;33m.\u001b[0m\u001b[0m_metadata_for_cls\u001b[0m\u001b[1;33m(\u001b[0m\u001b[0mmanager\u001b[0m\u001b[1;33m)\u001b[0m\u001b[1;33m,\u001b[0m\u001b[1;33m\u001b[0m\u001b[1;33m\u001b[0m\u001b[0m\n",
      "\u001b[1;32m<string>\u001b[0m in \u001b[0;36m__new__\u001b[1;34m(cls, *args, **kw)\u001b[0m\n",
      "\u001b[1;32m~\\anaconda3\\lib\\site-packages\\sqlalchemy\\util\\deprecations.py\u001b[0m in \u001b[0;36mwarned\u001b[1;34m(fn, *args, **kwargs)\u001b[0m\n\u001b[0;32m    307\u001b[0m                         \u001b[0mstacklevel\u001b[0m\u001b[1;33m=\u001b[0m\u001b[1;36m3\u001b[0m\u001b[1;33m,\u001b[0m\u001b[1;33m\u001b[0m\u001b[1;33m\u001b[0m\u001b[0m\n\u001b[0;32m    308\u001b[0m                     )\n\u001b[1;32m--> 309\u001b[1;33m             \u001b[1;32mreturn\u001b[0m \u001b[0mfn\u001b[0m\u001b[1;33m(\u001b[0m\u001b[1;33m*\u001b[0m\u001b[0margs\u001b[0m\u001b[1;33m,\u001b[0m \u001b[1;33m**\u001b[0m\u001b[0mkwargs\u001b[0m\u001b[1;33m)\u001b[0m\u001b[1;33m\u001b[0m\u001b[1;33m\u001b[0m\u001b[0m\n\u001b[0m\u001b[0;32m    310\u001b[0m \u001b[1;33m\u001b[0m\u001b[0m\n\u001b[0;32m    311\u001b[0m         \u001b[0mdoc\u001b[0m \u001b[1;33m=\u001b[0m \u001b[0mfn\u001b[0m\u001b[1;33m.\u001b[0m\u001b[0m__doc__\u001b[0m \u001b[1;32mis\u001b[0m \u001b[1;32mnot\u001b[0m \u001b[1;32mNone\u001b[0m \u001b[1;32mand\u001b[0m \u001b[0mfn\u001b[0m\u001b[1;33m.\u001b[0m\u001b[0m__doc__\u001b[0m \u001b[1;32mor\u001b[0m \u001b[1;34m\"\"\u001b[0m\u001b[1;33m\u001b[0m\u001b[1;33m\u001b[0m\u001b[0m\n",
      "\u001b[1;32m~\\anaconda3\\lib\\site-packages\\sqlalchemy\\sql\\schema.py\u001b[0m in \u001b[0;36m__new__\u001b[1;34m(cls, *args, **kw)\u001b[0m\n\u001b[0;32m    591\u001b[0m         \u001b[1;32mif\u001b[0m \u001b[0mkey\u001b[0m \u001b[1;32min\u001b[0m \u001b[0mmetadata\u001b[0m\u001b[1;33m.\u001b[0m\u001b[0mtables\u001b[0m\u001b[1;33m:\u001b[0m\u001b[1;33m\u001b[0m\u001b[1;33m\u001b[0m\u001b[0m\n\u001b[0;32m    592\u001b[0m             \u001b[1;32mif\u001b[0m \u001b[1;32mnot\u001b[0m \u001b[0mkeep_existing\u001b[0m \u001b[1;32mand\u001b[0m \u001b[1;32mnot\u001b[0m \u001b[0mextend_existing\u001b[0m \u001b[1;32mand\u001b[0m \u001b[0mbool\u001b[0m\u001b[1;33m(\u001b[0m\u001b[0margs\u001b[0m\u001b[1;33m)\u001b[0m\u001b[1;33m:\u001b[0m\u001b[1;33m\u001b[0m\u001b[1;33m\u001b[0m\u001b[0m\n\u001b[1;32m--> 593\u001b[1;33m                 raise exc.InvalidRequestError(\n\u001b[0m\u001b[0;32m    594\u001b[0m                     \u001b[1;34m\"Table '%s' is already defined for this MetaData \"\u001b[0m\u001b[1;33m\u001b[0m\u001b[1;33m\u001b[0m\u001b[0m\n\u001b[0;32m    595\u001b[0m                     \u001b[1;34m\"instance.  Specify 'extend_existing=True' \"\u001b[0m\u001b[1;33m\u001b[0m\u001b[1;33m\u001b[0m\u001b[0m\n",
      "\u001b[1;31mInvalidRequestError\u001b[0m: Table 'Minneapolis_Centurylink' is already defined for this MetaData instance.  Specify 'extend_existing=True' to redefine options and columns on an existing Table object."
     ]
    }
   ],
   "source": [
    "class ISP(Base):\n",
    "    __tablename__ = 'Minneapolis_Centurylink'\n",
    "    address_full = Column(String, primary_key=True)\n",
    "    major_city = Column(String)\n",
    "    state = Column(String)\n",
    "    lat = Column(Float)\n",
    "    lon = Column(Float)\n",
    "    block_group = Column(Float)\n",
    "    collection_datetime = Column(DateTime)\n",
    "    provider = Column(String)\n",
    "    price = Column(Float)\n",
    "    speed_down = Column(Float)\n",
    "    speed_up = Column(Float)\n",
    "    speed_unit = Column(String)\n",
    "    technology = Column(String)\n",
    "    package = Column(String)\n",
    "    fastest_speed_down = Column(Float)\n",
    "    fastest_speed_price = Column(Float)\n",
    "    speed_down_bins = Column(String)\n",
    "    redlining_grade = Column(String)\n",
    "    race_perc_non_white = Column(Float)\n",
    "    race_quantile = Column(String)\n",
    "    median_household_income = Column(Float)\n",
    "    income_dollars_below_median = Column(Float)\n",
    "    income_level = Column(String)\n",
    "    ppl_per_sq_mile = Column(Float)\n",
    "    n_providers = Column(Float)\n",
    "    internet_perc_broadband = Column(Float)"
   ]
  },
  {
   "cell_type": "code",
   "execution_count": 4,
   "id": "7feb7af8",
   "metadata": {},
   "outputs": [],
   "source": [
    "column_names = ['address_full',\n",
    " 'major_city',\n",
    " 'state',\n",
    " 'lat',\n",
    " 'lon',\n",
    " 'block_group',\n",
    " 'collection_datetime',\n",
    " 'provider',\n",
    " 'price',\n",
    " 'speed_down',\n",
    " 'speed_up',\n",
    " 'speed_unit',\n",
    " 'technology',\n",
    " 'package',\n",
    " 'fastest_speed_down',\n",
    " 'fastest_speed_price',\n",
    " 'speed_down_bins',\n",
    " 'redlining_grade',\n",
    " 'race_perc_non_white',\n",
    " 'race_quantile',\n",
    " 'median_household_income',\n",
    " 'income_dollars_below_median',\n",
    " 'income_level',\n",
    " 'ppl_per_sq_mile',\n",
    " 'n_providers',\n",
    " 'internet_perc_broadband']"
   ]
  },
  {
   "cell_type": "code",
   "execution_count": 5,
   "id": "ea8da6fd",
   "metadata": {},
   "outputs": [],
   "source": [
    "Base = automap_base()\n",
    "\n",
    "Base.prepare(autoload_with=engine)\n",
    "\n",
    "Base.classes.keys()\n",
    "\n",
    "minneapolis_centurylink = Base.classes.Minneapolis_Centurylink"
   ]
  },
  {
   "cell_type": "code",
   "execution_count": 8,
   "id": "bbc3d585",
   "metadata": {},
   "outputs": [],
   "source": [
    "session = Session(engine)"
   ]
  },
  {
   "cell_type": "code",
   "execution_count": 25,
   "id": "5ad863ce",
   "metadata": {},
   "outputs": [
    {
     "name": "stdout",
     "output_type": "stream",
     "text": [
      "address_full VARCHAR(100)\n",
      "major_city VARCHAR(50)\n",
      "state VARCHAR(4)\n",
      "lat FLOAT\n",
      "lon FLOAT\n",
      "block_group BIGINT\n",
      "collection_datetime DATETIME\n",
      "provider VARCHAR(20)\n",
      "price FLOAT\n",
      "speed_down FLOAT\n",
      "speed_up FLOAT\n",
      "speed_unit VARCHAR(10)\n",
      "technology VARCHAR(20)\n",
      "package VARCHAR(100)\n",
      "fastest_speed_down FLOAT\n",
      "fastest_speed_price FLOAT\n",
      "speed_down_bins VARCHAR(50)\n",
      "redlining_grade VARCHAR(2)\n",
      "race_perc_non_white FLOAT\n",
      "race_quantile VARCHAR(50)\n",
      "median_household_income FLOAT\n",
      "income_dollars_below_median FLOAT\n",
      "income_level VARCHAR(50)\n",
      "ppl_per_sq_mile FLOAT\n",
      "n_providers INTEGER\n",
      "internet_perc_broadband FLOAT\n"
     ]
    }
   ],
   "source": [
    "inspector = inspect(engine)\n",
    "\n",
    "columns = inspector.get_columns('Minneapolis_Centurylink')\n",
    "for column in columns:\n",
    "    print(column[\"name\"], column[\"type\"])"
   ]
  },
  {
   "cell_type": "code",
   "execution_count": 41,
   "id": "6a62adcd",
   "metadata": {
    "scrolled": true
   },
   "outputs": [
    {
     "ename": "TypeError",
     "evalue": "cannot unpack non-iterable Minneapolis_Centurylink object",
     "output_type": "error",
     "traceback": [
      "\u001b[1;31m---------------------------------------------------------------------------\u001b[0m",
      "\u001b[1;31mTypeError\u001b[0m                                 Traceback (most recent call last)",
      "\u001b[1;32m~\\AppData\\Local\\Temp\\ipykernel_27136\\1356553844.py\u001b[0m in \u001b[0;36m<module>\u001b[1;34m\u001b[0m\n\u001b[0;32m      1\u001b[0m \u001b[0mdata\u001b[0m \u001b[1;33m=\u001b[0m \u001b[0msession\u001b[0m\u001b[1;33m.\u001b[0m\u001b[0mquery\u001b[0m\u001b[1;33m(\u001b[0m\u001b[0mminneapolis_centurylink\u001b[0m\u001b[1;33m)\u001b[0m\u001b[1;33m.\u001b[0m\u001b[0mall\u001b[0m\u001b[1;33m(\u001b[0m\u001b[1;33m)\u001b[0m\u001b[1;33m\u001b[0m\u001b[1;33m\u001b[0m\u001b[0m\n\u001b[0;32m      2\u001b[0m \u001b[1;33m\u001b[0m\u001b[0m\n\u001b[1;32m----> 3\u001b[1;33m \u001b[1;32mfor\u001b[0m \u001b[0maddress_full\u001b[0m\u001b[1;33m,\u001b[0m \u001b[0mmajor_city\u001b[0m\u001b[1;33m,\u001b[0m \u001b[0mstate\u001b[0m\u001b[1;33m,\u001b[0m \u001b[0mlat\u001b[0m\u001b[1;33m,\u001b[0m \u001b[0mlon\u001b[0m\u001b[1;33m,\u001b[0m \u001b[0mblock_group\u001b[0m\u001b[1;33m,\u001b[0m \u001b[0mcollection_datetime\u001b[0m\u001b[1;33m,\u001b[0m\u001b[0;31m\\\u001b[0m\u001b[1;33m\u001b[0m\u001b[1;33m\u001b[0m\u001b[0m\n\u001b[0m\u001b[0;32m      4\u001b[0m         \u001b[0mprovider\u001b[0m\u001b[1;33m,\u001b[0m \u001b[0mprice\u001b[0m\u001b[1;33m,\u001b[0m \u001b[0mspeed_down\u001b[0m\u001b[1;33m,\u001b[0m \u001b[0mspeed_up\u001b[0m\u001b[1;33m,\u001b[0m \u001b[0mspeed_unit\u001b[0m\u001b[1;33m,\u001b[0m \u001b[0mtechnology\u001b[0m\u001b[1;33m,\u001b[0m \u001b[0mpackage\u001b[0m\u001b[1;33m,\u001b[0m\u001b[0;31m \u001b[0m\u001b[0;31m\\\u001b[0m\u001b[1;33m\u001b[0m\u001b[1;33m\u001b[0m\u001b[0m\n\u001b[0;32m      5\u001b[0m         \u001b[0mfastest_speed_down\u001b[0m\u001b[1;33m,\u001b[0m \u001b[0mfastest_speed_price\u001b[0m\u001b[1;33m,\u001b[0m \u001b[0mspeed_down_bins\u001b[0m\u001b[1;33m,\u001b[0m \u001b[0mredlining_grade\u001b[0m\u001b[1;33m,\u001b[0m\u001b[0;31m \u001b[0m\u001b[0;31m\\\u001b[0m\u001b[1;33m\u001b[0m\u001b[1;33m\u001b[0m\u001b[0m\n",
      "\u001b[1;31mTypeError\u001b[0m: cannot unpack non-iterable Minneapolis_Centurylink object"
     ]
    }
   ],
   "source": [
    "data = session.query(minneapolis_centurylink).all()\n",
    "\n",
    "for address_full, major_city, state, lat, lon, block_group, collection_datetime,\\\n",
    "        provider, price, speed_down, speed_up, speed_unit, technology, package, \\\n",
    "        fastest_speed_down, fastest_speed_price, speed_down_bins, redlining_grade, \\\n",
    "        race_perc_non_white, race_quantile, median_household_income, income_dollars_below_median, \\\n",
    "        income_level, ppl_per_sq_mile, n_providers, internet_perc_broadband in data:\n",
    "    dataArray[\"address_full\"] =  address_full\n",
    "    dataArray[\"major_city\"] =  major_city\n",
    "    dataArray[\"state\"] =  state\n",
    "    dataArray[\"lat\"] =  lat\n",
    "    dataArray[\"lon\"] =  lon\n",
    "    dataArray[\"block_group\"] =  block_group\n",
    "    dataArray[\"collection_datetime\"] =  collection_datetime\n",
    "    dataArray[\"provider\"] =  provider\n",
    "    dataArray[\"price\"] =  price\n",
    "    dataArray[\"speed_down\"] =  speed_down\n",
    "    dataArray[\"speed_up\"] =  speed_up\n",
    "    dataArray[\"speed_unit\"] =  speed_unit\n",
    "    dataArray[\"technology\"] =  technology\n",
    "    dataArray[\"package\"] =  package\n",
    "    dataArray[\"fastest_speed_down\"] =  fastest_speed_down\n",
    "    dataArray[\"fastest_speed_price\"] =  fastest_speed_price\n",
    "    dataArray[\"speed_down_bins\"] =  speed_down_bins\n",
    "    dataArray[\"redlining_grade\"] =  redlining_grade\n",
    "    dataArray[\"race_perc_non_white\"] =  race_perc_non_white\n",
    "    dataArray[\"race_quantile\"] =  race_quantile\n",
    "    dataArray[\"median_household_income\"] =  median_household_income\n",
    "    dataArray[\"income_dollars_below_median\"] =  income_dollars_below_median\n",
    "    dataArray[\"income_level\"] =  income_level\n",
    "    dataArray[\"ppl_per_sq_mile\"] =  ppl_per_sq_mile\n",
    "    dataArray[\"n_providers\"] =  n_providers\n",
    "    dataArray[\"internet_perc_broadband\"] =  internet_perc_broadband\n"
   ]
  },
  {
   "cell_type": "code",
   "execution_count": null,
   "id": "55e6b7af",
   "metadata": {},
   "outputs": [],
   "source": []
  }
 ],
 "metadata": {
  "kernelspec": {
   "display_name": "PythonData",
   "language": "python",
   "name": "pythondata"
  },
  "language_info": {
   "codemirror_mode": {
    "name": "ipython",
    "version": 3
   },
   "file_extension": ".py",
   "mimetype": "text/x-python",
   "name": "python",
   "nbconvert_exporter": "python",
   "pygments_lexer": "ipython3",
   "version": "3.9.13"
  }
 },
 "nbformat": 4,
 "nbformat_minor": 5
}
